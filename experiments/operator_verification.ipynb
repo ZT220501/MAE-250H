{
 "cells": [
  {
   "cell_type": "markdown",
   "metadata": {},
   "source": [
    "# Test the validity of all the operators"
   ]
  },
  {
   "cell_type": "code",
   "execution_count": 10,
   "metadata": {},
   "outputs": [
    {
     "data": {
      "text/plain": [
       "<module 'utils' from 'd:\\\\PhD at UCLA\\\\Spring 2025\\\\MAE-250H\\\\utils.py'>"
      ]
     },
     "execution_count": 10,
     "metadata": {},
     "output_type": "execute_result"
    }
   ],
   "source": [
    "import numpy as np\n",
    "import matplotlib.pyplot as plt\n",
    "\n",
    "import sys\n",
    "import os\n",
    "import importlib\n",
    "\n",
    "\n",
    "# Get the parent directory of the current file\n",
    "parent_dir = os.path.abspath(os.path.join(os.getcwd(), '..'))\n",
    "if parent_dir not in sys.path:\n",
    "    sys.path.insert(0, parent_dir)\n",
    "\n",
    "\n",
    "import solvers\n",
    "importlib.reload(solvers)\n",
    "import utils\n",
    "importlib.reload(utils)"
   ]
  },
  {
   "cell_type": "code",
   "execution_count": 11,
   "metadata": {},
   "outputs": [],
   "source": [
    "'''\n",
    "Create staggered grid for all the operators\n",
    "'''\n",
    "Lx = 1\n",
    "Ly = 1\n",
    "Nx = 10\n",
    "Ny = 10\n",
    "# initial_condition = np.zeros((Nx, Ny))"
   ]
  },
  {
   "cell_type": "code",
   "execution_count": 12,
   "metadata": {},
   "outputs": [],
   "source": [
    "'''\n",
    "Initial conditions\n",
    "'''\n",
    "def initial_condition_velocity(u_mesh_grid, v_mesh_grid):\n",
    "    Xu, Yu = u_mesh_grid\n",
    "    Xv, Yv = v_mesh_grid\n",
    "    u = -np.ones(Xu.shape) * Yu\n",
    "    v = np.ones(Xv.shape) * Xv\n",
    "    return u, v\n",
    "\n",
    "def initial_condition_pressure(pressure_mesh_grid):\n",
    "    Xp, Yp = pressure_mesh_grid\n",
    "    p = np.ones(Xp.shape) * 3\n",
    "    return p\n"
   ]
  },
  {
   "cell_type": "code",
   "execution_count": 13,
   "metadata": {},
   "outputs": [],
   "source": [
    "staggered_grid = utils.staggered_grid(Lx, Ly, Nx, Ny, initial_condition_velocity, initial_condition_pressure)\n",
    "spatial_mesh_grid, pressure_mesh_grid, u_mesh_grid, v_mesh_grid, vorticity_mesh_grid = staggered_grid.get_grid()\n",
    "grids = [spatial_mesh_grid, pressure_mesh_grid, u_mesh_grid, v_mesh_grid, vorticity_mesh_grid]"
   ]
  },
  {
   "cell_type": "code",
   "execution_count": 14,
   "metadata": {},
   "outputs": [
    {
     "data": {
      "image/png": "[encoded data removed]",
      "text/plain": [
       "<Figure size 600x600 with 1 Axes>"
      ]
     },
     "metadata": {},
     "output_type": "display_data"
    }
   ],
   "source": [
    "markers = ['P', '*', '>', '^', 'o']\n",
    "marker_edge_color = ['black', 'black', 'blue', 'blue', 'red']\n",
    "fig, ax = plt.subplots(figsize=(6, 6))\n",
    "# Use the spatial mesh grid to plot the grid\n",
    "X, Y = spatial_mesh_grid\n",
    "\n",
    "x_ticks = X[0, :]\n",
    "y_ticks = Y[:, 0]\n",
    "\n",
    "ax.set_xticks(x_ticks)\n",
    "ax.set_yticks(y_ticks)\n",
    "\n",
    "\n",
    "\n",
    "for i in range(1, len(grids)):\n",
    "    X_plot, Y_plot = grids[i]\n",
    "\n",
    "    plt.plot(X_plot, Y_plot, markers[i], markerfacecolor='none', markeredgecolor=marker_edge_color[i])\n",
    "\n",
    "plt.title('Staggered Grid')\n",
    "plt.grid(axis='both')\n",
    "# plt.legend([\"Pressue Mesh Grid\", \"u Mesh Grid\", \"v Mesh Grid\", \"Vorticity Mesh Grid\"])\n",
    "plt.show()"
   ]
  },
  {
   "cell_type": "markdown",
   "metadata": {},
   "source": [
    "### Divergence test"
   ]
  },
  {
   "cell_type": "code",
   "execution_count": 15,
   "metadata": {},
   "outputs": [],
   "source": [
    "'''\n",
    "Divergence operator verification\n",
    "'''\n",
    "divergence = staggered_grid.compute_divergence()"
   ]
  },
  {
   "cell_type": "markdown",
   "metadata": {},
   "source": [
    "### Gradient test"
   ]
  },
  {
   "cell_type": "code",
   "execution_count": 16,
   "metadata": {},
   "outputs": [
    {
     "data": {
      "text/plain": [
       "'\\nGradient operator verification\\n'"
      ]
     },
     "execution_count": 16,
     "metadata": {},
     "output_type": "execute_result"
    }
   ],
   "source": [
    "'''\n",
    "Gradient operator verification\n",
    "'''"
   ]
  },
  {
   "cell_type": "markdown",
   "metadata": {},
   "source": [
    "### Laplacian test"
   ]
  },
  {
   "cell_type": "code",
   "execution_count": 17,
   "metadata": {},
   "outputs": [
    {
     "data": {
      "text/plain": [
       "'\\nLaplacian operator verification\\n'"
      ]
     },
     "execution_count": 17,
     "metadata": {},
     "output_type": "execute_result"
    }
   ],
   "source": [
    "'''\n",
    "Laplacian operator verification\n",
    "'''\n"
   ]
  },
  {
   "cell_type": "markdown",
   "metadata": {},
   "source": [
    "### Nonlinear advection test"
   ]
  },
  {
   "cell_type": "code",
   "execution_count": 18,
   "metadata": {},
   "outputs": [
    {
     "data": {
      "text/plain": [
       "'\\nNonlinear advection operator verification\\n'"
      ]
     },
     "execution_count": 18,
     "metadata": {},
     "output_type": "execute_result"
    }
   ],
   "source": [
    "'''\n",
    "Nonlinear advection operator verification\n",
    "'''"
   ]
  }
 ],
 "metadata": {
  "kernelspec": {
   "display_name": "MAE_250H",
   "language": "python",
   "name": "python3"
  },
  "language_info": {
   "codemirror_mode": {
    "name": "ipython",
    "version": 3
   },
   "file_extension": ".py",
   "mimetype": "text/x-python",
   "name": "python",
   "nbconvert_exporter": "python",
   "pygments_lexer": "ipython3",
   "version": "3.9.21"
  }
 },
 "nbformat": 4,
 "nbformat_minor": 2
}
