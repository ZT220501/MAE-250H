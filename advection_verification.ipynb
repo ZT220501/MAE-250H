{
 "cells": [
  {
   "cell_type": "markdown",
   "metadata": {},
   "source": [
    "# Check the error of central differencing and upwind differencing, for 1D constant advection equation"
   ]
  },
  {
   "cell_type": "code",
   "execution_count": 22,
   "metadata": {},
   "outputs": [],
   "source": [
    "import numpy as np\n",
    "import matplotlib.pyplot as plt\n"
   ]
  },
  {
   "cell_type": "code",
   "execution_count": 23,
   "metadata": {},
   "outputs": [],
   "source": [
    "'''\n",
    "Define the experimental parameters\n",
    "'''\n",
    "# Define the domain\n",
    "a = 0\n",
    "b = 1\n",
    "\n",
    "\n",
    "# Define the mesh grid\n",
    "N = 1000\n",
    "x_grid = np.linspace(a, b, N+1)\n",
    "dx = x_grid[1] - x_grid[0]\n",
    "\n",
    "# Define the advection speed\n",
    "c = 1\n",
    "\n",
    "# Define the time step\n",
    "dt = 1 * dx\n",
    "\n",
    "# Define the total time\n",
    "T = 0.5"
   ]
  },
  {
   "cell_type": "code",
   "execution_count": 24,
   "metadata": {},
   "outputs": [
    {
     "name": "stdout",
     "output_type": "stream",
     "text": [
      "dt is  0.001\n"
     ]
    }
   ],
   "source": [
    "print(\"dt is \", dt)"
   ]
  },
  {
   "cell_type": "code",
   "execution_count": 25,
   "metadata": {},
   "outputs": [],
   "source": [
    "'''\n",
    "Initial condition\n",
    "'''\n",
    "\n",
    "def initial_condition(x):\n",
    "    u_initial = np.zeros(len(x))\n",
    "    for i in range(len(x)):\n",
    "        if x[i] <= 0.4 and x[i] >= 0.2:\n",
    "            u_initial[i] = 1\n",
    "        else:\n",
    "            u_initial[i] = 0\n",
    "    return u_initial"
   ]
  },
  {
   "cell_type": "code",
   "execution_count": 26,
   "metadata": {},
   "outputs": [],
   "source": [
    "# Define the u evolution and the time evolution\n",
    "u_total = [initial_condition(x_grid)]\n",
    "t_total = np.linspace(0, T, int(T/dt)+1)"
   ]
  },
  {
   "cell_type": "markdown",
   "metadata": {},
   "source": [
    "# Experiments"
   ]
  },
  {
   "cell_type": "code",
   "execution_count": 27,
   "metadata": {},
   "outputs": [],
   "source": [
    "'''\n",
    "Central difference experiments\n",
    "'''\n",
    "for t in t_total:\n",
    "    u_previous = u_total[-1]\n",
    "    u_new = np.zeros(len(x_grid))\n",
    "\n",
    "    # Update the interior points using central difference\n",
    "    u_derivative = -(u_previous[:-2] + u_previous[2:]) / (2 * dx)\n",
    "    u_new[1:-1] = u_previous[1:-1] - c * dt * u_derivative\n",
    "\n",
    "    # Update the boundary points using Neumann boundary condition\n",
    "    u_new[0] = u_new[1]\n",
    "    u_new[-1] = u_new[-2]\n",
    "\n",
    "    u_total.append(u_new)\n"
   ]
  },
  {
   "cell_type": "code",
   "execution_count": 29,
   "metadata": {},
   "outputs": [
    {
     "name": "stdout",
     "output_type": "stream",
     "text": [
      "Plotted time is 0.01\n"
     ]
    },
    {
     "data": {
      "image/png": "[encoded data removed]",
      "text/plain": [
       "<Figure size 640x480 with 1 Axes>"
      ]
     },
     "metadata": {},
     "output_type": "display_data"
    }
   ],
   "source": [
    "# plt.plot(x_grid, u_total[0])\n",
    "\n",
    "idx_testing = 10\n",
    "plt.plot(x_grid, u_total[idx_testing])\n",
    "print(\"Plotted time is \" + str(t_total[idx_testing]))"
   ]
  }
 ],
 "metadata": {
  "kernelspec": {
   "display_name": "MAE_250H",
   "language": "python",
   "name": "python3"
  },
  "language_info": {
   "codemirror_mode": {
    "name": "ipython",
    "version": 3
   },
   "file_extension": ".py",
   "mimetype": "text/x-python",
   "name": "python",
   "nbconvert_exporter": "python",
   "pygments_lexer": "ipython3",
   "version": "3.12.9"
  }
 },
 "nbformat": 4,
 "nbformat_minor": 2
}
